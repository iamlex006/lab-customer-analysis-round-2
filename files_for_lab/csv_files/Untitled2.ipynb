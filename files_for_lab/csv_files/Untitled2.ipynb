{
 "cells": [
  {
   "cell_type": "code",
   "execution_count": null,
   "id": "26cf1a79",
   "metadata": {},
   "outputs": [],
   "source": [
    "# Start of Round 3\n",
    "\n",
    "#show data frame info\n",
    "\n",
    "data2.info()\n",
    "\n",
    "data2.describe()\n",
    "\n",
    "\n",
    "\n",
    "\n",
    "\n",
    "\n",
    "\n",
    "\n",
    "\n",
    "\n",
    "\n",
    "\n",
    "\n",
    "\n",
    "\n",
    "\n",
    "\n",
    "\n",
    "\n",
    "import matplotlib.pyplot as plt\n",
    "import seaborn as sns \n",
    "\n",
    "sns.displot(data2['Response'], bins=3)\n",
    "plt.show()\n",
    "\n",
    "table_channel = data.groupby([\"Sales Channel\", \"Response\"]).size()\n",
    "display(table_channel)\n",
    "\n",
    "rates = []\n",
    "for i in range(1, len(table_channel), 2):\n",
    "    rates.append(table_channel[i]/(table_channel[i]+table_channel[i-1])*100)\n",
    "rates\n"
   ]
  }
 ],
 "metadata": {
  "kernelspec": {
   "display_name": "Python 3 (ipykernel)",
   "language": "python",
   "name": "python3"
  },
  "language_info": {
   "codemirror_mode": {
    "name": "ipython",
    "version": 3
   },
   "file_extension": ".py",
   "mimetype": "text/x-python",
   "name": "python",
   "nbconvert_exporter": "python",
   "pygments_lexer": "ipython3",
   "version": "3.9.7"
  }
 },
 "nbformat": 4,
 "nbformat_minor": 5
}
